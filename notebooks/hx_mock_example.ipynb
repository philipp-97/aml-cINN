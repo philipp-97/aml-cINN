{
 "cells": [
  {
   "cell_type": "code",
   "execution_count": 2,
   "metadata": {},
   "outputs": [],
   "source": [
    "from collections import OrderedDict\n",
    "from typing import Callable, Union\n",
    "\n",
    "from time import time\n",
    "from tqdm import tqdm\n",
    "\n",
    "import numpy as np\n",
    "import matplotlib.pyplot as plt\n",
    "import math\n",
    "\n",
    "import torch\n",
    "import torch.optim\n",
    "import torch.nn as nn\n",
    "from torch.nn.parameter import Parameter, UninitializedParameter\n",
    "from torch.nn import functional as F\n",
    "\n",
    "import hxtorch\n",
    "import _hxtorch\n",
    "import hxtorch.nn as hxnn\n",
    "\n",
    "import FrEIA.framework as Ff\n",
    "import FrEIA.modules as Fm\n",
    "\n",
    "import quantized_cINN.common as com"
   ]
  },
  {
   "cell_type": "markdown",
   "metadata": {},
   "source": [
    "## generate some data"
   ]
  },
  {
   "cell_type": "code",
   "execution_count": 3,
   "metadata": {},
   "outputs": [],
   "source": [
    "class ExampleDataset(torch.utils.data.Dataset):\n",
    "\n",
    "    def __init__(self, n_samples=100000, img_size=(2, 2), transform=None):\n",
    "        self.n_samples = n_samples\n",
    "        self.img_size = img_size\n",
    "        self.transform = transform\n",
    "        self.data, self.targets = self._generate_data()\n",
    "\n",
    "    def _generate_data(self):\n",
    "        floor = 0.2\n",
    "        intensity = (0, 1)\n",
    "\n",
    "        high = self.img_size[0] * self.img_size[1]\n",
    "        labels = torch.randint(low=0, high=high, size=(self.n_samples, ))\n",
    "        imgs = floor * torch.rand((self.n_samples, 1, *self.img_size))\n",
    "        imgs[torch.arange(self.n_samples), :, labels%2, labels//2] += intensity[1] - floor \n",
    "        return imgs, labels\n",
    "\n",
    "    def __len__(self):\n",
    "        return len(self.targets)\n",
    "\n",
    "    def __getitem__(self, idx):\n",
    "        if torch.is_tensor(idx):\n",
    "            idx = idx.tolist()\n",
    "    \n",
    "        X = self.data[idx].numpy()\n",
    "        y = self.targets[idx].reshape(-1).numpy()\n",
    "        if self.transform:\n",
    "            X = self.transform(X)\n",
    "        return X, y\n",
    "\n",
    "class ExampleData:\n",
    "\n",
    "    def __init__(self, config: object):\n",
    "        from torch.utils.data import Dataset, DataLoader, TensorDataset\n",
    "        import torchvision.transforms as T\n",
    "\n",
    "        self.c = config\n",
    "\n",
    "        self.train_data = ExampleDataset(transform=T.ToTensor())\n",
    "        self.test_data = ExampleDataset(transform=T.ToTensor())\n",
    "\n",
    "        # Sample a fixed batch of 1024 validation examples\n",
    "        self.val_x, self.val_l = zip(*list(self.train_data[i] for i in range(1024)))\n",
    "        self.val_x = torch.stack(self.val_x, 0).to(config.device)\n",
    "        self.val_l = torch.LongTensor(self.val_l).to(config.device)\n",
    "\n",
    "        # Exclude the validation batch from the training data\n",
    "        self.train_data.data = self.train_data.data[1024:]\n",
    "        self.train_data.targets = self.train_data.targets[1024:]\n",
    "\n",
    "        ## Add the noise-augmentation to the (non-validation) training data:\n",
    "        #augm_func = lambda x: x + self.c.add_image_noise * torch.randn_like(x)\n",
    "        #self.train_data.transform = T.Compose([self.train_data.transform, augm_func])\n",
    "\n",
    "        self.train_loader = DataLoader(self.train_data,\n",
    "                                       batch_size=self.c.batch_size,\n",
    "                                       shuffle=True,\n",
    "                                       num_workers=self.c.n_workers,\n",
    "                                       pin_memory=True, drop_last=True)\n",
    "        self.test_loader = DataLoader(self.test_data,\n",
    "                                      batch_size=self.c.batch_size,\n",
    "                                      shuffle=False,\n",
    "                                      num_workers=self.c.n_workers,\n",
    "                                      pin_memory=True, drop_last=True)"
   ]
  },
  {
   "cell_type": "markdown",
   "metadata": {},
   "source": [
    "## configuaration"
   ]
  },
  {
   "cell_type": "code",
   "execution_count": 4,
   "metadata": {},
   "outputs": [],
   "source": [
    "class CONFIG(com.baseCONFIG):\n",
    "    \"\"\"\n",
    "    Namspace for configuration\n",
    "    \"\"\"\n",
    "    # Data\n",
    "    data_mean = None\n",
    "    data_std = None\n",
    "    add_image_noise = None\n",
    "\n",
    "    img_size = (2, 2)\n",
    "    device = \"cpu\"\n",
    "    n_workers = 8\n",
    "\n",
    "    mock = False\n",
    "\n",
    "    # Training\n",
    "    lr = 1e-3\n",
    "    batch_size = 256\n",
    "    weight_decay = 1e-5\n",
    "    gamma = 0.1\n",
    "    milestones = [20, 40]\n",
    "    betas = (0.9, 0.999)\n",
    "\n",
    "    n_epochs = 1\n",
    "\n",
    "    init_scale = 0.03\n",
    "    pre_low_lr = 0\n",
    "    \n",
    "    clip_grad_norm = 100.0\n",
    "\n",
    "    # Architecture\n",
    "    n_blocks = 8\n",
    "    internal_width = 16\n",
    "    clamping = 1.\n",
    "    fc_dropout = 0.0\n",
    "\n",
    "    # Logging/preview\n",
    "    loss_names = ['L']\n",
    "    preview_upscale = 3                         # Scale up the images for preview\n",
    "    sampling_temperature = 0.8                  # Sample at a reduced temperature for the preview\n",
    "    progress_bar = True                         # Show a progress bar of each epoch\n",
    "    eval_steps_interploation = 12\n",
    "    eval_seeds_interpolation  = (51, 89)\n",
    "\n",
    "    # Validation\n",
    "    pca_weights = [\n",
    "        [(0,0.55)],\n",
    "        [(1,0.1), (3, 0.4), (4, 0.5)],\n",
    "        [(2,0.33), (3, 0.33), (1, -0.33)]]\n",
    "    pca_gridsize = 10\n",
    "    pca_extent = 8.\n",
    "\n",
    "\n",
    "    # Paths\n",
    "    mnist_data = \"../mnist_data\"\n",
    "    save_dir = \"out/hx_mock/\"\n",
    "\n",
    "    load_file = \"out/hx_mock/hx_mock_example_checkpoint.pt\"\n",
    "    filename = \"out/hx_mock/hx_mock_example_cinn.pt\"\n",
    "\n",
    "    checkpoint_save_interval =  50\n",
    "    checkpoint_save_overwrite = True\n",
    "    checkpoint_on_error = True"
   ]
  },
  {
   "cell_type": "markdown",
   "metadata": {},
   "source": [
    "## model"
   ]
  },
  {
   "cell_type": "code",
   "execution_count": 5,
   "metadata": {},
   "outputs": [],
   "source": [
    "class HXCouplingBlock(Fm.coupling_layers._BaseCouplingBlock):\n",
    "    '''\n",
    "    '''\n",
    "\n",
    "    def __init__(self, dims_in, dims_c=[],\n",
    "                 subnet_constructor: Callable = None):\n",
    "        '''\n",
    "        Additional args in docstring of base class.\n",
    "\n",
    "        Args:\n",
    "          subnet_constructor: function or class, with signature\n",
    "            constructor(dims_in, dims_out).  The result should be a torch\n",
    "            nn.Module, that takes dims_in input channels, and dims_out output\n",
    "            channels. See tutorial for examples. Two of these subnetworks will be\n",
    "            initialized in the block.\n",
    "          clamp: Soft clamping for the multiplicative component. The\n",
    "            amplification or attenuation of each input dimension can be at most\n",
    "            exp(±clamp).\n",
    "          clamp_activation: Function to perform the clamping. String values\n",
    "            \"ATAN\", \"TANH\", and \"SIGMOID\" are recognized, or a function of\n",
    "            object can be passed. TANH behaves like the original realNVP paper.\n",
    "            A custom function should take tensors and map -inf to -1 and +inf to +1.\n",
    "        '''\n",
    "\n",
    "        super().__init__(dims_in, dims_c, clamp=None, clamp_activation=(lambda u: u))\n",
    "\n",
    "        self.subnet1 = subnet_constructor(self.split_len1 + self.condition_length, self.split_len2 * 2)\n",
    "        self.subnet2 = subnet_constructor(self.split_len2 + self.condition_length, self.split_len1 * 2)\n",
    "\n",
    "    def _coupling1(self, x1, u2, rev=False):\n",
    "\n",
    "        assert torch.min(x1) >= 0, f\"need x1 >= 0 but is in min {torch.min(x1)}\"\n",
    "        assert torch.max(x1) <= 1, f\"need x1 <= 1 but is in min {torch.max(x1)}\"\n",
    "        assert torch.min(u2) >= 0, f\"need u2 >= 0 but is in min {torch.min(u2)}\"\n",
    "        assert torch.max(u2) <= 1, f\"need u2 <= 1 but is in min {torch.max(u2)}\"\n",
    "\n",
    "        # input shift (0, 1] -> (0, 31]\n",
    "        a2 = self.subnet2(u2 * 31.)\n",
    "        assert torch.min(a2) >= -128, f\"need subnet_out_2 >= -128 but is in min {torch.min(a2)}\"\n",
    "        assert torch.max(a2) <= 127, f\"need subnet_out_2 <= 127 but is in min {torch.max(a2)}\"\n",
    "\n",
    "        # output shift [-128, 127] -> (0, 0.5]\n",
    "        a2 = (a2 + 129) / (256 * 2)\n",
    "\n",
    "        s2, t2 = a2[:, :self.split_len1], a2[:, self.split_len1:]\n",
    "        j1 = torch.sum(torch.log(s2), dim=tuple(range(1, self.ndims + 1)))\n",
    "\n",
    "        if rev:\n",
    "            y1 = torch.clamp(x1 - t2, 1 / 256, 1) / s2\n",
    "            return y1, -j1\n",
    "        else:\n",
    "            y1 = s2 * x1 + t2\n",
    "            return y1, j1\n",
    "\n",
    "    def _coupling2(self, x2, u1, rev=False):\n",
    "\n",
    "        assert torch.min(x2) >= 0, f\"need x2 >= 0 but is in min {torch.min(x2)}\"\n",
    "        assert torch.max(x2) <= 1, f\"need x2 <= 1 but is in min {torch.max(x2)}\"\n",
    "        assert torch.min(u1) >= 0, f\"need u1 >= 0 but is in min {torch.min(u1)}\"\n",
    "        assert torch.max(u1) <= 1, f\"need u1 <= 1 but is in min {torch.max(u1)}\"\n",
    "\n",
    "        # input shift (0, 1] -> (0, 31]\n",
    "        a1 = self.subnet1(u1 * 31.)\n",
    "        assert torch.min(a1) >= -128, f\"need subnet_out_1 >= -128 but is in min {torch.min(a1)}\"\n",
    "        assert torch.max(a1) <= 127, f\"need subnet_out_1 <= 127 but is in min {torch.max(a1)}\"\n",
    "\n",
    "        # output shift [-128, 127] -> (0, 0.5]\n",
    "        a1 = (a1 + 129) / (256 * 2)\n",
    "\n",
    "        s1, t1 = a1[:, :self.split_len2], a1[:, self.split_len2:]\n",
    "        j2 = torch.sum(torch.log(s1), dim=tuple(range(1, self.ndims + 1)))\n",
    "\n",
    "        if rev:\n",
    "            y2 = torch.clamp(x2 - t1, 1 / 256, 1) / s1\n",
    "            return y2, -j2\n",
    "        else:\n",
    "            y2 = s1 * x2 + t1\n",
    "            return y2, j2"
   ]
  },
  {
   "cell_type": "code",
   "execution_count": 5,
   "metadata": {},
   "outputs": [],
   "source": [
    "from torch.nn.parameter import Parameter\n",
    "\n",
    "class LinearScaling(nn.Module):\n",
    "\n",
    "    def __init__(self, weight: float=1., bias: float=0.,\n",
    "                 outrange=None, device=None, dtype=None):\n",
    "        factory_kwargs = {'device': device, 'dtype': dtype}\n",
    "        super(LinearScaling, self).__init__()\n",
    "\n",
    "        self.weight = Parameter(torch.tensor(weight), requires_grad=True)\n",
    "        self.bias = Parameter(torch.tensor(bias), requires_grad=True)\n",
    "        self.outrange = outrange\n",
    "\n",
    "    def forward(self, x):\n",
    "        x = x * self.weight + self.bias\n",
    "        if self.outrange:\n",
    "            x = x.clamp(*self.outrange)\n",
    "        return x\n",
    "\n",
    "class MinMaxScaling(nn.Module):\n",
    "\n",
    "    def __init__(self, outrange, per_feature=False, size=None):\n",
    "        #assert (per_feature and not size) \"If you want per_feature \"\n",
    "        super(MinMaxScaling, self).__init__()\n",
    "        if size:\n",
    "            self.weight = torch.ones(size)\n",
    "            self.bias = torch.zeros(size)\n",
    "            self.per_feature = per_feature\n",
    "        else:\n",
    "            self.weight = torch.ones(1)\n",
    "            self.bias = torch.zeros(1)\n",
    "            self.per_feature = False\n",
    "        #self.register_parameter(\"factor__\", None)\n",
    "        #self.register_parameter(\"bias__\", None)\n",
    "\n",
    "        self.outrange = outrange\n",
    "        self.in_min = None\n",
    "        self.in_max = None\n",
    "\n",
    "    def forward(self, x):\n",
    "        if self.training:\n",
    "            if self.per_feature:\n",
    "                self.in_min = torch.min(x, axis=0)[0]\n",
    "                self.in_max = torch.max(x, axis=0)[0]\n",
    "            else:\n",
    "                self.in_min = torch.tensor([torch.min(x)])\n",
    "                self.in_max = torch.tensor([torch.max(x)])\n",
    "\n",
    "        _norm = self.in_max - self.in_min\n",
    "        self.weight = (self.outrange[1] - self.outrange[0]) / _norm\n",
    "        self.bias = self.outrange[1] - self.weight * self.in_max\n",
    "        return self.weight * x + self.bias     \n",
    "        \n",
    "        \n",
    "class Scale(nn.Module):\n",
    "    def __init__(self, scale=1):\n",
    "        super(Scale, self).__init__()\n",
    "        self.scale = scale\n",
    "        \n",
    "    def forward(self, x):\n",
    "        x = x * self.scale\n",
    "        return x\n",
    "    \n",
    "class DynamicScaling(nn.Module):\n",
    "    r\"\"\"Applies a linear scaling to the incoming data: :math:`y = x*w + b`\n",
    "    This module supports :ref:`TensorFloat32<tf32_on_ampere>`.\n",
    "    Args:\n",
    "        features: size of each output sample\n",
    "        bias: If set to ``False``, the layer will not learn an additive bias.\n",
    "            Default: ``True``\n",
    "    Shape:\n",
    "        - Input: :math:`(N, *, H)` where :math:`*` means any number of\n",
    "          additional dimensions and :math:`H = \\text{features}`.\n",
    "        - Output: :math:`(N, *, H)`.\n",
    "    Attributes:\n",
    "        weight: the learnable weights of the module of shape\n",
    "            :math:`(\\text{features})`. The values are\n",
    "            initialized from :math:`\\mathcal{U}(-\\sqrt{k}, \\sqrt{k})`, where\n",
    "            :math:`k = \\frac{1}{\\text{in\\_features}}`\n",
    "        bias:   the learnable bias of the module of shape :math:`(\\text{features})`.\n",
    "                If :attr:`bias` is ``True``, the values are initialized from\n",
    "                :math:`\\mathcal{U}(-\\sqrt{k}, \\sqrt{k})` where\n",
    "                :math:`k = \\frac{1}{\\text{in\\_features}}`\n",
    "    \"\"\"\n",
    "    __constants__ = ['features']\n",
    "    features: int\n",
    "    weight: torch.Tensor\n",
    "\n",
    "    def __init__(self, features: int, bias: bool = True,\n",
    "                device=None, dtype=None) -> None:\n",
    "        factory_kwargs = {'device': device, 'dtype': dtype}\n",
    "        super(DynamicScaling, self).__init__()\n",
    "        self.features = features\n",
    "\n",
    "        self.weight = Parameter(torch.empty(features, **factory_kwargs))\n",
    "        if bias:\n",
    "            self.bias = Parameter(torch.empty(features, **factory_kwargs))\n",
    "        else:\n",
    "            self.register_parameter('bias', None)\n",
    "        self.reset_parameters_static()\n",
    "\n",
    "    def reset_parameters(self) -> None:\n",
    "        nn.init.kaiming_uniform_(torch.diag(self.weight), a=math.sqrt(5))\n",
    "        if self.bias is not None:\n",
    "            fan_in, _ = nn.init._calculate_fan_in_and_fan_out(torch.diag(self.weight))\n",
    "            bound = 1 / math.sqrt(fan_in) if fan_in > 0 else 0\n",
    "            nn.init.uniform_(self.bias, -bound, bound)\n",
    "            \n",
    "    def reset_parameters_static(self) -> None:\n",
    "        nn.init._no_grad_fill_(self.weight, 0.03)\n",
    "        nn.init.zeros_(self.bias)\n",
    "\n",
    "    def forward(self, input: torch.Tensor) -> torch.Tensor:\n",
    "        return F.linear(input, torch.diag(self.weight), self.bias)\n",
    "\n",
    "    def extra_repr(self) -> str:\n",
    "        return 'features={}, bias={}'.format(\n",
    "            self.features, self.bias is not None\n",
    "        )\n",
    "    \n",
    "class FixedRangeScaling(nn.Module):\n",
    "    r\"\"\"\n",
    "    \"\"\"\n",
    "    __constants__ = ['features', 'max_out']\n",
    "    per_feature: bool\n",
    "    features: int\n",
    "    max_out: int\n",
    "    weight: torch.Tensor\n",
    "\n",
    "    def __init__(self, features: int, max_out: int, per_feature: bool = False,\n",
    "                 device=None, dtype=None) -> None:\n",
    "        factory_kwargs = {'device': device, 'dtype': dtype}\n",
    "        super(FixedRangeScaling, self).__init__()\n",
    "        self.features = features\n",
    "        self.max_out = max_out\n",
    "        self.per_feature = per_feature\n",
    "\n",
    "        self.weight = Parameter(torch.empty(features, **factory_kwargs),\n",
    "                                requires_grad=False)\n",
    "        self.reset_parameters()\n",
    "\n",
    "    def reset_parameters(self) -> None:\n",
    "        nn.init.ones_(self.weight)\n",
    "\n",
    "    def forward(self, input_: torch.Tensor) -> torch.Tensor:\n",
    "        if self.training:\n",
    "            max_abs, _ = torch.max(torch.abs(input_), axis=0)\n",
    "            if not self.per_feature:\n",
    "                max_abs.fill_(max_abs.max())\n",
    "            max_abs[max_abs == 0.] = self.max_out\n",
    "            #nn.init._no_grad_fill_(self.weight, self.max_out / max_abs)\n",
    "            self.weight = nn.Parameter(self.max_out / max_abs, requires_grad=False)\n",
    "        return F.linear(input_, torch.diag(self.weight))\n",
    "            \n",
    "            #max_abs = torch.max(torch.abs(input_), axis=0)\n",
    "            #factor = _hxtorch.constants.input_activation_max / max_abs.values if max_abs.values != 0 else 1\n",
    "        #return input_ * factor\n",
    "\n",
    "    def extra_repr(self) -> str:\n",
    "        return 'features={}, max_out={}, per_feature={}'.format(\n",
    "            self.features, self.max_out, self.per_feature\n",
    "        )"
   ]
  },
  {
   "cell_type": "code",
   "execution_count": 6,
   "metadata": {},
   "outputs": [],
   "source": [
    "class EXAMPLEcINN_hx(nn.Module):\n",
    "    \"\"\"\n",
    "    \"\"\"\n",
    "\n",
    "    def __init__(self, config: object=CONFIG):\n",
    "        super().__init__()\n",
    "        #self.stop = False\n",
    "\n",
    "        self.c = config\n",
    "\n",
    "        self.cinn = self.build_inn()\n",
    "\n",
    "        self.trainable_parameters = []\n",
    "        for name, param in self.cinn.named_parameters():\n",
    "            #print(name, (name.split(\".\")[-2][-2:] == \"__\"))\n",
    "            if param.requires_grad and not (name.split(\".\")[-2][-2:] == \"__\"):\n",
    "                #print(\"accept\")\n",
    "                self.trainable_parameters.append(param)\n",
    "            continue\n",
    "\n",
    "        #for p in self.trainable_parameters:\n",
    "        #    print(p)\n",
    "        #    p.data = self.c.init_scale * torch.randn_like(p)\n",
    "\n",
    "        self.cinn.to(self.c.device)\n",
    "\n",
    "        self.optimizer = torch.optim.Adam(self.trainable_parameters,\n",
    "                                          lr=self.c.lr,\n",
    "                                          weight_decay=self.c.weight_decay)\n",
    "        self.weight_scheduler = torch.optim.lr_scheduler.MultiStepLR(self.optimizer,\n",
    "                                                                #step_size=1,\n",
    "                                                                milestones=self.c.milestones,\n",
    "                                                                gamma=self.c.gamma)\n",
    "\n",
    "    def build_inn(self):\n",
    "        \n",
    "        def scale_input_total(x_in: torch.Tensor) -> torch.Tensor:\n",
    "            max_abs = torch.max(torch.abs(x_in))\n",
    "            factor = _hxtorch.constants.input_activation_max / max_abs if max_abs != 0 else 1\n",
    "            return x_in * factor\n",
    "\n",
    "        def fc_subnet(ch_in, ch_out):\n",
    "            net = OrderedDict([\n",
    "                #(\"hx_input__\", MinMaxScaling((0., 31.), per_feature=True)),\n",
    "                (\"hx_input1\", FixedRangeScaling(features=ch_in,\n",
    "                                                max_out=31,\n",
    "                                                per_feature=True)),\n",
    "                (\"hx_lin_1\", hxnn.Linear(in_features=ch_in,\n",
    "                                         out_features=self.c.internal_width,\n",
    "                                         bias=False,\n",
    "                                         num_sends=2,\n",
    "                                         wait_between_events=2,\n",
    "                                         mock=self.c.mock,\n",
    "                                         signed_input=True,\n",
    "                                         )),\n",
    "                (\"relu1\", hxnn.ConvertingReLU(shift=1,\n",
    "                                              mock=True)),\n",
    "                (\"hx_input2\", FixedRangeScaling(features=self.c.internal_width,\n",
    "                                                max_out=31,\n",
    "                                                per_feature=True)),\n",
    "                (\"hx_lin_2\", hxnn.Linear(in_features=self.c.internal_width,\n",
    "                                         out_features=ch_out,\n",
    "                                         bias=False,\n",
    "                                         num_sends=3,\n",
    "                                         wait_between_events=2,\n",
    "                                         mock=self.c.mock,\n",
    "                                         signed_input=True,\n",
    "                                         )),\n",
    "                #(\"hx_output\", LinearScaling(weight=0.03))\n",
    "                (\"hx_output\", DynamicScaling(features=ch_out))\n",
    "            ])\n",
    "            return nn.Sequential(net)\n",
    "\n",
    "        cond = Ff.ConditionNode(4)\n",
    "\n",
    "        nodes = [Ff.InputNode(1, *self.c.img_size)]\n",
    "        nodes.append(Ff.Node(nodes[-1], Fm.Flatten, {}))\n",
    "\n",
    "        for k in range(self.c.n_blocks):\n",
    "            nodes.append(Ff.Node(nodes[-1], Fm.PermuteRandom,\n",
    "                                 {\"seed\": k}))\n",
    "            nodes.append(Ff.Node(nodes[-1], Fm.GLOWCouplingBlock,\n",
    "                                 {\"subnet_constructor\": fc_subnet,\n",
    "                                  \"clamp\": 1.},\n",
    "                                  conditions=cond))\n",
    "\n",
    "        nodes += [cond, Ff.OutputNode(nodes[-1])]\n",
    "        return Ff.ReversibleGraphNet(nodes, verbose=False)\n",
    "\n",
    "    def forward(self, x, l, jac=True):\n",
    "        #if self.stop:\n",
    "        #    raise\n",
    "        #self.stop = True\n",
    "        #print(x[0])\n",
    "        return self.cinn(x, c=one_hot(l), jac=jac)\n",
    "\n",
    "    def reverse_sample(self, z, l, jac=True):\n",
    "        return self.cinn(z, c=one_hot(l), rev=True, jac=jac)\n",
    "\n",
    "    def save(self, name):\n",
    "        save_dict = {\"opt\": self.optimizer.state_dict(),\n",
    "                     \"net\": self.cinn.state_dict(),\n",
    "                     \"lr\": self.weight_scheduler.state_dict()}\n",
    "        torch.save(save_dict, name)\n",
    "\n",
    "    def load(self, name):\n",
    "        state_dicts = torch.load(name)\n",
    "        self.cinn.load_state_dict(state_dicts[\"net\"])\n",
    "        try:\n",
    "            self.optimizer.load_state_dict(state_dicts[\"opt\"])\n",
    "        except ValueError:\n",
    "            print(\"Cannot load optimizer for some reason or other\")\n",
    "        try:\n",
    "            self.weight_scheduler.load_state_dict(state_dicts[\"lr\"])\n",
    "        except ValueError:\n",
    "            print(\"Cannot load optimizer for some reason or other\")\n",
    "            \n",
    "def one_hot(labels, out=None):\n",
    "    '''\n",
    "    Convert LongTensor labels (contains labels 0-9), to a one hot vector.\n",
    "    Can be done in-place using the out-argument (faster, re-use of GPU memory)\n",
    "    '''\n",
    "    if out is None:\n",
    "        out = torch.zeros(labels.shape[0], 4).to(labels.device)\n",
    "    else:\n",
    "        out.zeros_()\n",
    "    out.scatter_(dim=1, index=labels.view(-1,1), value=1.)\n",
    "    return out"
   ]
  },
  {
   "cell_type": "markdown",
   "metadata": {},
   "source": [
    "## train"
   ]
  },
  {
   "cell_type": "code",
   "execution_count": 7,
   "metadata": {
    "scrolled": false
   },
   "outputs": [
    {
     "name": "stderr",
     "output_type": "stream",
     "text": [
      "/opt/spack_views/visionary-dls/lib/python3.8/site-packages/torch/utils/data/dataloader.py:474: UserWarning: This DataLoader will create 8 worker processes in total. Our suggested max number of worker in current system is 4, which is smaller than what this DataLoader is going to create. Please be aware that excessive worker creation might get DataLoader running slow or even freeze, lower the worker number to avoid potential slowness/freeze if necessary.\n",
      "  warnings.warn(_create_warning_msg(\n"
     ]
    },
    {
     "name": "stdout",
     "output_type": "stream",
     "text": [
      "000 \t00000/00386 \t0.26 \t-1.045232\t-1.236157\t1.00e-05\n",
      "000 \t00010/00386 \t1.17 \t-1.169643\t-1.321257\t1.00e-05\n",
      "000 \t00020/00386 \t2.09 \t-1.287518\t-1.410063\t1.00e-05\n",
      "000 \t00030/00386 \t3.00 \t-1.361591\t-1.465464\t1.00e-05\n",
      "000 \t00040/00386 \t3.91 \t-1.402777\t-1.496647\t1.00e-05\n",
      "000 \t00050/00386 \t4.83 \t-1.433364\t-1.535533\t1.00e-05\n",
      "000 \t00060/00386 \t5.74 \t-1.454414\t-1.547684\t1.00e-05\n",
      "000 \t00070/00386 \t6.66 \t-1.485994\t-1.573324\t1.00e-05\n",
      "000 \t00080/00386 \t7.57 \t-1.481838\t-1.567666\t1.00e-05\n",
      "000 \t00090/00386 \t8.48 \t-1.500029\t-1.562413\t1.00e-05\n",
      "000 \t00100/00386 \t9.40 \t-1.521620\t-1.578225\t1.00e-05\n",
      "000 \t00110/00386 \t10.31 \t-1.546508\t-1.624374\t1.00e-05\n",
      "000 \t00120/00386 \t11.23 \t-1.554259\t-1.622416\t1.00e-05\n",
      "000 \t00130/00386 \t12.14 \t-1.558363\t-1.619381\t1.00e-05\n",
      "000 \t00140/00386 \t13.05 \t-1.565506\t-1.646517\t1.00e-05\n",
      "000 \t00150/00386 \t13.97 \t-1.566618\t-1.611665\t1.00e-05\n",
      "000 \t00160/00386 \t14.88 \t-1.593560\t-1.624711\t1.00e-05\n",
      "000 \t00170/00386 \t15.80 \t-1.590595\t-1.646442\t1.00e-05\n",
      "000 \t00180/00386 \t16.71 \t-1.582820\t-1.647952\t1.00e-05\n",
      "000 \t00190/00386 \t17.63 \t-1.608859\t-1.648519\t1.00e-05\n",
      "000 \t00200/00386 \t18.54 \t-1.625573\t-1.655310\t1.00e-05\n",
      "000 \t00210/00386 \t19.45 \t-1.614044\t-1.665190\t1.00e-05\n",
      "000 \t00220/00386 \t20.37 \t-1.630972\t-1.680862\t1.00e-05\n",
      "000 \t00230/00386 \t21.28 \t-1.621129\t-1.679038\t1.00e-05\n",
      "000 \t00240/00386 \t22.19 \t-1.633397\t-1.699223\t1.00e-05\n",
      "000 \t00250/00386 \t23.11 \t-1.652593\t-1.705481\t1.00e-05\n",
      "000 \t00260/00386 \t24.02 \t-1.646409\t-1.707644\t1.00e-05\n",
      "000 \t00270/00386 \t24.94 \t-1.647920\t-1.690816\t1.00e-05\n",
      "000 \t00280/00386 \t25.85 \t-1.647452\t-1.703107\t1.00e-05\n",
      "000 \t00290/00386 \t26.77 \t-1.675354\t-1.703737\t1.00e-05\n",
      "000 \t00300/00386 \t27.68 \t-1.657227\t-1.695192\t1.00e-05\n",
      "000 \t00310/00386 \t28.59 \t-1.663115\t-1.709574\t1.00e-05\n",
      "000 \t00320/00386 \t29.51 \t-1.666700\t-1.715168\t1.00e-05\n",
      "000 \t00330/00386 \t30.42 \t-1.684181\t-1.739955\t1.00e-05\n",
      "000 \t00340/00386 \t31.34 \t-1.681179\t-1.716040\t1.00e-05\n",
      "000 \t00350/00386 \t32.25 \t-1.696023\t-1.740921\t1.00e-05\n",
      "000 \t00360/00386 \t33.17 \t-1.690103\t-1.743077\t1.00e-05\n",
      "000 \t00370/00386 \t34.08 \t-1.708720\t-1.751479\t1.00e-05\n",
      "000 \t00380/00386 \t34.99 \t-1.717165\t-1.742477\t1.00e-05\n"
     ]
    }
   ],
   "source": [
    "hxtorch.init_hardware()\n",
    "\n",
    "config = CONFIG()\n",
    "#config.n_epochs = 20\n",
    "data = ExampleData(config)\n",
    "\n",
    "model_floating = EXAMPLEcINN_hx(config)\n",
    "model_floating.load(config.save_dir + \"hx_mock_example_cinn_50epochs_mock.pt\")\n",
    "\n",
    "t_start = time()\n",
    "\n",
    "model_floating.train()\n",
    "nll_mean = []\n",
    "\n",
    "val_losses_means = np.array([])\n",
    "val_losses = np.array([])\n",
    "\n",
    "\n",
    "try:\n",
    "    for i_epoch in range(-config.pre_low_lr, config.n_epochs):\n",
    "        if i_epoch < 0:\n",
    "            for param_group in model.optimizer.param_groups:\n",
    "                param_group['lr'] = config.lr * 2e-2\n",
    "\n",
    "        for i_batch, (x, l) in enumerate(data.train_loader):\n",
    "\n",
    "            x, l = x.to(config.device), l.to(config.device)\n",
    "            z, log_j = model_floating(x, l)\n",
    "\n",
    "            nll = torch.mean(z**2) / 2 - torch.mean(log_j) / np.prod(config.img_size)\n",
    "            nll.backward()\n",
    "            torch.nn.utils.clip_grad_norm_(model_floating.trainable_parameters,\n",
    "                                           config.clip_grad_norm)\n",
    "\n",
    "            nll_mean.append(nll.item())\n",
    "\n",
    "            model_floating.optimizer.step()\n",
    "            model_floating.optimizer.zero_grad()\n",
    "\n",
    "            if not i_batch % 10:\n",
    "                with torch.no_grad():\n",
    "                    z, log_j = model_floating(data.val_x, data.val_l)\n",
    "                    nll_val = torch.mean(z**2) / 2 - torch.mean(log_j) / np.prod(config.img_size)\n",
    "\n",
    "                print('%.3i \\t%.5i/%.5i \\t%.2f \\t%.6f\\t%.6f\\t%.2e' % (i_epoch,\n",
    "                                                                i_batch, len(data.train_loader),\n",
    "                                                                (time() - t_start)/60.,\n",
    "                                                                np.mean(nll_mean),\n",
    "                                                                nll_val.item(),\n",
    "                                                                model_floating.optimizer.param_groups[0]['lr'],\n",
    "                                                                ), flush=True)\n",
    "                \n",
    "                val_losses_means = np.append(val_losses_means, np.mean(nll_mean))\n",
    "                val_losses = np.append(val_losses, nll_val.item())\n",
    "                \n",
    "                nll_mean = []\n",
    "                \n",
    "            if (i_batch % config.checkpoint_save_interval) == 0:\n",
    "                model_floating.save(config.filename + 'floating_checkpoint_%.4i' % (i_batch * (1-config.checkpoint_save_overwrite)))\n",
    "\n",
    "        model_floating.weight_scheduler.step()\n",
    "\n",
    "        #if (i_epoch % config.checkpoint_save_interval) == 0:\n",
    "        #    model_floating.save(config.filename + 'floating_checkpoint_%.4i' % (i_epoch * (1-config.checkpoint_save_overwrite)))\n",
    "\n",
    "    model_floating.save(config.filename)\n",
    "\n",
    "except BaseException as b:\n",
    "    if config.checkpoint_on_error:\n",
    "        model_floating.save(config.filename + \"floating_ABORT\")\n",
    "    raise b"
   ]
  },
  {
   "cell_type": "code",
   "execution_count": 9,
   "metadata": {},
   "outputs": [],
   "source": [
    "def show_samples(model, data, config, label):\n",
    "    '''produces and shows cINN samples for a given label (0-9)'''\n",
    "\n",
    "    N_samples = 100\n",
    "    l = torch.LongTensor(N_samples).to(config.device)\n",
    "    l[:] = label\n",
    "\n",
    "    z = 1.0 * torch.randn(N_samples, np.prod(config.img_size)).to(config.device)\n",
    "\n",
    "    with torch.no_grad():\n",
    "        samples = model.reverse_sample(z, l)[0].cpu().numpy()\n",
    "\n",
    "    full_image = np.zeros((config.img_size[0]*10, config.img_size[1]*10))\n",
    "\n",
    "    qwe = []\n",
    "    for k in range(N_samples):\n",
    "        i, j = k // 10, k % 10\n",
    "        full_image[config.img_size[0] * i : config.img_size[1] * (i + 1),\n",
    "                   config.img_size[0] * j : config.img_size[1] * (j + 1)] = samples[k, 0]\n",
    "        qwe.append(np.argmax(samples[k, 0]))\n",
    "    qwe = np.array(qwe)\n",
    "    print(f\"{len(qwe[qwe==0])/len(qwe)}\\t{len(qwe[qwe==1])/len(qwe)}\\t{len(qwe[qwe==2])/len(qwe)}\\t{len(qwe[qwe==3])/len(qwe)}\")\n",
    "        \n",
    "\n",
    "    full_image = np.clip(full_image, 0, 1)\n",
    "    plt.figure()\n",
    "    plt.title(F'Generated digits for c={label}')\n",
    "    plt.imshow(full_image, vmin=0, vmax=1, cmap='gray')\n",
    "    #plt.show()\n",
    "    plt.savefig(config.save_dir + f\"/eval_{label}\")"
   ]
  },
  {
   "cell_type": "code",
   "execution_count": 10,
   "metadata": {},
   "outputs": [
    {
     "name": "stdout",
     "output_type": "stream",
     "text": [
      "Calibration run - floating model\n",
      "0.86\t0.13\t0.0\t0.01\n",
      "0.01\t0.99\t0.0\t0.0\n",
      "0.0\t0.01\t0.99\t0.0\n",
      "0.01\t0.0\t0.0\t0.99\n"
     ]
    },
    {
     "data": {
      "image/png": "[encoded data removed]",
      "text/plain": [
       "<Figure size 432x288 with 1 Axes>"
      ]
     },
     "metadata": {
      "needs_background": "light"
     },
     "output_type": "display_data"
    },
    {
     "data": {
      "image/png": "[encoded data removed]",
      "text/plain": [
       "<Figure size 432x288 with 1 Axes>"
      ]
     },
     "metadata": {
      "needs_background": "light"
     },
     "output_type": "display_data"
    },
    {
     "data": {
      "image/png": "[encoded data removed]",
      "text/plain": [
       "<Figure size 432x288 with 1 Axes>"
      ]
     },
     "metadata": {
      "needs_background": "light"
     },
     "output_type": "display_data"
    },
    {
     "data": {
      "image/png": "[encoded data removed]",
      "text/plain": [
       "<Figure size 432x288 with 1 Axes>"
      ]
     },
     "metadata": {
      "needs_background": "light"
     },
     "output_type": "display_data"
    }
   ],
   "source": [
    "print(\"Calibration run - floating model\")\n",
    "for k in range(4):\n",
    "    show_samples(model_floating, data, config, k)"
   ]
  },
  {
   "cell_type": "code",
   "execution_count": 11,
   "metadata": {
    "scrolled": true
   },
   "outputs": [],
   "source": [
    "np.savetxt(config.save_dir + \"/val_losses_means_50epochs_mock_1epoch_hw.txt\", val_losses_means)\n",
    "np.savetxt(config.save_dir + \"/val_losses_50epochs_mock_1epoch_hw.txt\", val_losses)"
   ]
  },
  {
   "cell_type": "code",
   "execution_count": 16,
   "metadata": {},
   "outputs": [],
   "source": []
  },
  {
   "cell_type": "code",
   "execution_count": 12,
   "metadata": {},
   "outputs": [],
   "source": []
  },
  {
   "cell_type": "code",
   "execution_count": 27,
   "metadata": {},
   "outputs": [
    {
     "name": "stdout",
     "output_type": "stream",
     "text": [
      "Loaded HW model\n",
      "0.97\t0.0\t0.03\t0.0\n",
      "0.06\t0.9\t0.01\t0.03\n",
      "0.03\t0.04\t0.91\t0.02\n",
      "0.01\t0.0\t0.01\t0.98\n"
     ]
    },
    {
     "data": {
      "image/png": "[encoded data removed]",
      "text/plain": [
       "<Figure size 432x288 with 1 Axes>"
      ]
     },
     "metadata": {
      "needs_background": "light"
     },
     "output_type": "display_data"
    },
    {
     "data": {
      "image/png": "[encoded data removed]",
      "text/plain": [
       "<Figure size 432x288 with 1 Axes>"
      ]
     },
     "metadata": {
      "needs_background": "light"
     },
     "output_type": "display_data"
    },
    {
     "data": {
      "image/png": "[encoded data removed]",
      "text/plain": [
       "<Figure size 432x288 with 1 Axes>"
      ]
     },
     "metadata": {
      "needs_background": "light"
     },
     "output_type": "display_data"
    },
    {
     "data": {
      "image/png": "[encoded data removed]",
      "text/plain": [
       "<Figure size 432x288 with 1 Axes>"
      ]
     },
     "metadata": {
      "needs_background": "light"
     },
     "output_type": "display_data"
    }
   ],
   "source": [
    "cpu_config = CONFIG\n",
    "cpu_config.device = \"cpu\"\n",
    "load_model = EXAMPLEcINN_hx(cpu_config)\n",
    "#load_model.quantize()\n",
    "load_model.load(cpu_config.save_dir + \"hx_mock_example_cinn_5epochs_hw.pt\")\n",
    "\n",
    "print(\"Loaded HW model\")\n",
    "for k in range(4):\n",
    "    show_samples(load_model, data, config, k)"
   ]
  },
  {
   "cell_type": "code",
   "execution_count": 17,
   "metadata": {},
   "outputs": [
    {
     "name": "stdout",
     "output_type": "stream",
     "text": [
      "Loaded Quantized model\n",
      "1.0\t0.0\t0.0\t0.0\n",
      "0.0\t1.0\t0.0\t0.0\n",
      "0.0\t0.0\t1.0\t0.0\n",
      "0.0\t0.0\t0.0\t1.0\n"
     ]
    },
    {
     "data": {
      "image/png": "[encoded data removed]",
      "text/plain": [
       "<Figure size 432x288 with 1 Axes>"
      ]
     },
     "metadata": {
      "needs_background": "light"
     },
     "output_type": "display_data"
    },
    {
     "data": {
      "image/png": "[encoded data removed]",
      "text/plain": [
       "<Figure size 432x288 with 1 Axes>"
      ]
     },
     "metadata": {
      "needs_background": "light"
     },
     "output_type": "display_data"
    },
    {
     "data": {
      "image/png": "[encoded data removed]",
      "text/plain": [
       "<Figure size 432x288 with 1 Axes>"
      ]
     },
     "metadata": {
      "needs_background": "light"
     },
     "output_type": "display_data"
    },
    {
     "data": {
      "image/png": "[encoded data removed]",
      "text/plain": [
       "<Figure size 432x288 with 1 Axes>"
      ]
     },
     "metadata": {
      "needs_background": "light"
     },
     "output_type": "display_data"
    }
   ],
   "source": [
    "#print(\"Loaded Quantized model\")\n",
    "#for k in range(4):\n",
    "#    show_samples(load_model, data, config, k)\n",
    "\n",
    "\n",
    "#def calib_func(model, data=data, config=config):\n",
    "#    for k in range(4):\n",
    "#        show_samples(model, data, config, k)\n"
   ]
  },
  {
   "cell_type": "code",
   "execution_count": 8,
   "metadata": {},
   "outputs": [
    {
     "name": "stdout",
     "output_type": "stream",
     "text": [
      "tensor([31.,  0., 31.])\n",
      "tensor([31., 31., 31.])\n",
      "Parameter containing:\n",
      "tensor([1., 1., 1.])\n",
      "tensor([[ 31.0000,   0.0000, -31.0000],\n",
      "        [-10.5000,   0.0000,   7.0000]])\n",
      "tensor([[ 31.0000,   0.0000, -31.0000],\n",
      "        [-10.5000,   0.0000,   7.0000]])\n"
     ]
    }
   ],
   "source": [
    "max_out = 31\n",
    "#weight = Parameter(torch.empty(features, **factory_kwargs),\n",
    "#                                requires_grad=False)\n",
    "\n",
    "x = torch.Tensor([[31, 0, -31], [-10.5, 0, 7]])\n",
    "max_abs, _ = torch.max(torch.abs(x), axis=0)\n",
    "#max_abs.fill_(max_abs.max())\n",
    "print(max_abs)\n",
    "max_abs[max_abs == 0] = max_out\n",
    "print(max_abs)\n",
    "weight = nn.Parameter(max_out / max_abs, requires_grad=False)\n",
    "print(weight)\n",
    "out = x * weight\n",
    "print(out)\n",
    "out_diag = F.linear(x, torch.diag(weight))\n",
    "print(out_diag)\n",
    "\n",
    "print(\"-------------------\")\n",
    "max_abss = torch.max(torch.abs(x))\n",
    "factor = _hxtorch.constants.input_activation_max / max_abss if max_abss != 0 else 1\n",
    "            #factor = torch.Tensor(_hxtorch.constants.input_activation_max).repeat(max_abs.size()) /  \\\n",
    "                #max_abs if max_abs != 0 else 1\n",
    "print(x * factor)"
   ]
  },
  {
   "cell_type": "code",
   "execution_count": null,
   "metadata": {},
   "outputs": [],
   "source": []
  }
 ],
 "metadata": {
  "kernelspec": {
   "display_name": "Python 3",
   "language": "python",
   "name": "python3"
  },
  "language_info": {
   "codemirror_mode": {
    "name": "ipython",
    "version": 3
   },
   "file_extension": ".py",
   "mimetype": "text/x-python",
   "name": "python",
   "nbconvert_exporter": "python",
   "pygments_lexer": "ipython3",
   "version": "3.8.2"
  }
 },
 "nbformat": 4,
 "nbformat_minor": 4
}
