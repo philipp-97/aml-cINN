{
 "cells": [
  {
   "cell_type": "code",
   "execution_count": 3,
   "metadata": {},
   "outputs": [],
   "source": [
    "from collections import OrderedDict\n",
    "from typing import Callable, Union\n",
    "\n",
    "from time import time\n",
    "from tqdm import tqdm\n",
    "\n",
    "import numpy as np\n",
    "import matplotlib.pyplot as plt\n",
    "\n",
    "import torch\n",
    "import torch.optim\n",
    "import torch.nn as nn\n",
    "\n",
    "import hxtorch\n",
    "import _hxtorch\n",
    "import hxtorch.nn as hxnn\n",
    "\n",
    "import FrEIA.framework as Ff\n",
    "import FrEIA.modules as Fm\n",
    "\n",
    "import quantized_cINN.common as com"
   ]
  },
  {
   "cell_type": "markdown",
   "metadata": {},
   "source": [
    "## generate some data"
   ]
  },
  {
   "cell_type": "code",
   "execution_count": 4,
   "metadata": {},
   "outputs": [],
   "source": [
    "class ExampleDataset(torch.utils.data.Dataset):\n",
    "\n",
    "    def __init__(self, n_samples=100000, img_size=(2, 2), transform=None):\n",
    "        self.n_samples = n_samples\n",
    "        self.img_size = img_size\n",
    "        self.transform = transform\n",
    "        self.data, self.targets = self._generate_data()\n",
    "\n",
    "    def _generate_data(self):\n",
    "        floor = 0.2\n",
    "        intensity = (0, 1)\n",
    "\n",
    "        high = self.img_size[0] * self.img_size[1]\n",
    "        labels = torch.randint(low=0, high=high, size=(self.n_samples, ))\n",
    "        imgs = floor * torch.rand((self.n_samples, 1, *self.img_size))\n",
    "        imgs[torch.arange(self.n_samples), :, labels%2, labels//2] += intensity[1] - floor \n",
    "        return imgs, labels\n",
    "\n",
    "    def __len__(self):\n",
    "        return len(self.targets)\n",
    "\n",
    "    def __getitem__(self, idx):\n",
    "        if torch.is_tensor(idx):\n",
    "            idx = idx.tolist()\n",
    "    \n",
    "        X = self.data[idx].numpy()\n",
    "        y = self.targets[idx].reshape(-1).numpy()\n",
    "        if self.transform:\n",
    "            X = self.transform(X)\n",
    "        return X, y\n",
    "\n",
    "class ExampleData:\n",
    "\n",
    "    def __init__(self, config: object):\n",
    "        from torch.utils.data import Dataset, DataLoader, TensorDataset\n",
    "        import torchvision.transforms as T\n",
    "\n",
    "        self.c = config\n",
    "\n",
    "        self.train_data = ExampleDataset(transform=T.ToTensor())\n",
    "        self.test_data = ExampleDataset(transform=T.ToTensor())\n",
    "\n",
    "        # Sample a fixed batch of 1024 validation examples\n",
    "        self.val_x, self.val_l = zip(*list(self.train_data[i] for i in range(1024)))\n",
    "        self.val_x = torch.stack(self.val_x, 0).to(config.device)\n",
    "        self.val_l = torch.LongTensor(self.val_l).to(config.device)\n",
    "\n",
    "        # Exclude the validation batch from the training data\n",
    "        self.train_data.data = self.train_data.data[1024:]\n",
    "        self.train_data.targets = self.train_data.targets[1024:]\n",
    "\n",
    "        ## Add the noise-augmentation to the (non-validation) training data:\n",
    "        #augm_func = lambda x: x + self.c.add_image_noise * torch.randn_like(x)\n",
    "        #self.train_data.transform = T.Compose([self.train_data.transform, augm_func])\n",
    "\n",
    "        self.train_loader = DataLoader(self.train_data,\n",
    "                                       batch_size=self.c.batch_size,\n",
    "                                       shuffle=True,\n",
    "                                       num_workers=self.c.n_workers,\n",
    "                                       pin_memory=True, drop_last=True)\n",
    "        self.test_loader = DataLoader(self.test_data,\n",
    "                                      batch_size=self.c.batch_size,\n",
    "                                      shuffle=False,\n",
    "                                      num_workers=self.c.n_workers,\n",
    "                                      pin_memory=True, drop_last=True)"
   ]
  },
  {
   "cell_type": "markdown",
   "metadata": {},
   "source": [
    "## configuaration"
   ]
  },
  {
   "cell_type": "code",
   "execution_count": 5,
   "metadata": {},
   "outputs": [],
   "source": [
    "class CONFIG(com.baseCONFIG):\n",
    "    \"\"\"\n",
    "    Namspace for configuration\n",
    "    \"\"\"\n",
    "    # Data\n",
    "    data_mean = None\n",
    "    data_std = None\n",
    "    add_image_noise = None\n",
    "\n",
    "    img_size = (2, 2)\n",
    "    device = \"cpu\"\n",
    "    n_workers = 8\n",
    "\n",
    "    mock = True\n",
    "\n",
    "    # Training\n",
    "    lr = 1e-3\n",
    "    batch_size = 256\n",
    "    weight_decay = 1e-5\n",
    "    gamma = 0.1\n",
    "    milestones = [20, 40]\n",
    "    betas = (0.9, 0.999)\n",
    "\n",
    "    n_epochs = 20\n",
    "\n",
    "    init_scale = 0.03\n",
    "    pre_low_lr = 0\n",
    "    \n",
    "    clip_grad_norm = 100.0\n",
    "\n",
    "    # Architecture\n",
    "    n_blocks = 8\n",
    "    internal_width = 16\n",
    "    clamping = 1.\n",
    "    fc_dropout = 0.0\n",
    "\n",
    "    # Logging/preview\n",
    "    loss_names = ['L']\n",
    "    preview_upscale = 3                         # Scale up the images for preview\n",
    "    sampling_temperature = 0.8                  # Sample at a reduced temperature for the preview\n",
    "    progress_bar = True                         # Show a progress bar of each epoch\n",
    "    eval_steps_interploation = 12\n",
    "    eval_seeds_interpolation  = (51, 89)\n",
    "\n",
    "    # Validation\n",
    "    pca_weights = [\n",
    "        [(0,0.55)],\n",
    "        [(1,0.1), (3, 0.4), (4, 0.5)],\n",
    "        [(2,0.33), (3, 0.33), (1, -0.33)]]\n",
    "    pca_gridsize = 10\n",
    "    pca_extent = 8.\n",
    "\n",
    "\n",
    "    # Paths\n",
    "    mnist_data = \"../mnist_data\"\n",
    "    save_dir = \"out/hx_mock/\"\n",
    "\n",
    "    load_file = \"out/hx_mock/hx_mock_example_checkpoint.pt\"\n",
    "    filename = \"out/hx_mock/hx_mock_example_cinn.pt\"\n",
    "\n",
    "    checkpoint_save_interval =  20\n",
    "    checkpoint_save_overwrite = True\n",
    "    checkpoint_on_error = True"
   ]
  },
  {
   "cell_type": "markdown",
   "metadata": {},
   "source": [
    "## model"
   ]
  },
  {
   "cell_type": "code",
   "execution_count": 6,
   "metadata": {},
   "outputs": [],
   "source": [
    "class HXCouplingBlock(Fm.coupling_layers._BaseCouplingBlock):\n",
    "    '''\n",
    "    '''\n",
    "\n",
    "    def __init__(self, dims_in, dims_c=[],\n",
    "                 subnet_constructor: Callable = None):\n",
    "        '''\n",
    "        Additional args in docstring of base class.\n",
    "\n",
    "        Args:\n",
    "          subnet_constructor: function or class, with signature\n",
    "            constructor(dims_in, dims_out).  The result should be a torch\n",
    "            nn.Module, that takes dims_in input channels, and dims_out output\n",
    "            channels. See tutorial for examples. Two of these subnetworks will be\n",
    "            initialized in the block.\n",
    "          clamp: Soft clamping for the multiplicative component. The\n",
    "            amplification or attenuation of each input dimension can be at most\n",
    "            exp(±clamp).\n",
    "          clamp_activation: Function to perform the clamping. String values\n",
    "            \"ATAN\", \"TANH\", and \"SIGMOID\" are recognized, or a function of\n",
    "            object can be passed. TANH behaves like the original realNVP paper.\n",
    "            A custom function should take tensors and map -inf to -1 and +inf to +1.\n",
    "        '''\n",
    "\n",
    "        super().__init__(dims_in, dims_c, clamp=None, clamp_activation=(lambda u: u))\n",
    "\n",
    "        self.subnet1 = subnet_constructor(self.split_len1 + self.condition_length, self.split_len2 * 2)\n",
    "        self.subnet2 = subnet_constructor(self.split_len2 + self.condition_length, self.split_len1 * 2)\n",
    "\n",
    "    def _coupling1(self, x1, u2, rev=False):\n",
    "\n",
    "        assert torch.min(x1) >= 0, f\"need x1 >= 0 but is in min {torch.min(x1)}\"\n",
    "        assert torch.max(x1) <= 1, f\"need x1 <= 1 but is in min {torch.max(x1)}\"\n",
    "        assert torch.min(u2) >= 0, f\"need u2 >= 0 but is in min {torch.min(u2)}\"\n",
    "        assert torch.max(u2) <= 1, f\"need u2 <= 1 but is in min {torch.max(u2)}\"\n",
    "\n",
    "        # input shift (0, 1] -> (0, 31]\n",
    "        a2 = self.subnet2(u2 * 31.)\n",
    "        assert torch.min(a2) >= -128, f\"need subnet_out_2 >= -128 but is in min {torch.min(a2)}\"\n",
    "        assert torch.max(a2) <= 127, f\"need subnet_out_2 <= 127 but is in min {torch.max(a2)}\"\n",
    "\n",
    "        # output shift [-128, 127] -> (0, 0.5]\n",
    "        a2 = (a2 + 129) / (256 * 2)\n",
    "\n",
    "        s2, t2 = a2[:, :self.split_len1], a2[:, self.split_len1:]\n",
    "        j1 = torch.sum(torch.log(s2), dim=tuple(range(1, self.ndims + 1)))\n",
    "\n",
    "        if rev:\n",
    "            y1 = torch.clamp(x1 - t2, 1 / 256, 1) / s2\n",
    "            return y1, -j1\n",
    "        else:\n",
    "            y1 = s2 * x1 + t2\n",
    "            return y1, j1\n",
    "\n",
    "    def _coupling2(self, x2, u1, rev=False):\n",
    "\n",
    "        assert torch.min(x2) >= 0, f\"need x2 >= 0 but is in min {torch.min(x2)}\"\n",
    "        assert torch.max(x2) <= 1, f\"need x2 <= 1 but is in min {torch.max(x2)}\"\n",
    "        assert torch.min(u1) >= 0, f\"need u1 >= 0 but is in min {torch.min(u1)}\"\n",
    "        assert torch.max(u1) <= 1, f\"need u1 <= 1 but is in min {torch.max(u1)}\"\n",
    "\n",
    "        # input shift (0, 1] -> (0, 31]\n",
    "        a1 = self.subnet1(u1 * 31.)\n",
    "        assert torch.min(a1) >= -128, f\"need subnet_out_1 >= -128 but is in min {torch.min(a1)}\"\n",
    "        assert torch.max(a1) <= 127, f\"need subnet_out_1 <= 127 but is in min {torch.max(a1)}\"\n",
    "\n",
    "        # output shift [-128, 127] -> (0, 0.5]\n",
    "        a1 = (a1 + 129) / (256 * 2)\n",
    "\n",
    "        s1, t1 = a1[:, :self.split_len2], a1[:, self.split_len2:]\n",
    "        j2 = torch.sum(torch.log(s1), dim=tuple(range(1, self.ndims + 1)))\n",
    "\n",
    "        if rev:\n",
    "            y2 = torch.clamp(x2 - t1, 1 / 256, 1) / s1\n",
    "            return y2, -j2\n",
    "        else:\n",
    "            y2 = s1 * x2 + t1\n",
    "            return y2, j2"
   ]
  },
  {
   "cell_type": "code",
   "execution_count": 100,
   "metadata": {},
   "outputs": [],
   "source": [
    "from torch.nn.parameter import Parameter\n",
    "\n",
    "class LinearScaling(nn.Module):\n",
    "\n",
    "    def __init__(self, weight: float=1., bias: float=0.,\n",
    "                 outrange=None, device=None, dtype=None):\n",
    "        factory_kwargs = {'device': device, 'dtype': dtype}\n",
    "        super(LinearScaling, self).__init__()\n",
    "\n",
    "        self.weight = Parameter(torch.tensor(weight), requires_grad=True)\n",
    "        self.bias = Parameter(torch.tensor(bias), requires_grad=True)\n",
    "        self.outrange = outrange\n",
    "\n",
    "    def forward(self, x):\n",
    "        x = x * self.weight + self.bias\n",
    "        if self.outrange:\n",
    "            x = x.clamp(*self.outrange)\n",
    "        return x\n",
    "\n",
    "class MinMaxScaling(nn.Module):\n",
    "\n",
    "    def __init__(self, outrange, per_feature=False, size=None):\n",
    "        #assert (per_feature and not size) \"If you want per_feature \"\n",
    "        super(MinMaxScaling, self).__init__()\n",
    "        if size:\n",
    "            self.weight = torch.ones(size)\n",
    "            self.bias = torch.zeros(size)\n",
    "            self.per_feature = per_feature\n",
    "        else:\n",
    "            self.weight = torch.ones(1)\n",
    "            self.bias = torch.zeros(1)\n",
    "            self.per_feature = False\n",
    "        #self.register_parameter(\"factor__\", None)\n",
    "        #self.register_parameter(\"bias__\", None)\n",
    "\n",
    "        self.outrange = outrange\n",
    "        self.in_min = None\n",
    "        self.in_max = None\n",
    "\n",
    "    def forward(self, x):\n",
    "        if self.training:\n",
    "            if self.per_feature:\n",
    "                self.in_min = torch.min(x, axis=0)[0]\n",
    "                self.in_max = torch.max(x, axis=0)[0]\n",
    "            else:\n",
    "                self.in_min = torch.tensor([torch.min(x)])\n",
    "                self.in_max = torch.tensor([torch.max(x)])\n",
    "\n",
    "        _norm = self.in_max - self.in_min\n",
    "        self.weight = (self.outrange[1] - self.outrange[0]) / _norm\n",
    "        self.bias = self.outrange[1] - self.weight * self.in_max\n",
    "        return self.weight * x + self.bias     \n",
    "        "
   ]
  },
  {
   "cell_type": "code",
   "execution_count": 108,
   "metadata": {},
   "outputs": [],
   "source": [
    "class EXAMPLEcINN_hx(nn.Module):\n",
    "    \"\"\"\n",
    "    \"\"\"\n",
    "\n",
    "    def __init__(self, config: object=CONFIG):\n",
    "        super().__init__()\n",
    "        #self.stop = False\n",
    "\n",
    "        self.c = config\n",
    "\n",
    "        self.cinn = self.build_inn()\n",
    "\n",
    "        self.trainable_parameters = []\n",
    "        for name, param in self.cinn.named_parameters():\n",
    "            #print(name, (name.split(\".\")[-2][-2:] == \"__\"))\n",
    "            if param.requires_grad and not (name.split(\".\")[-2][-2:] == \"__\"):\n",
    "                #print(\"accept\")\n",
    "                self.trainable_parameters.append(param)\n",
    "            continue\n",
    "\n",
    "        #for p in self.trainable_parameters:\n",
    "        #    print(p)\n",
    "        #    p.data = self.c.init_scale * torch.randn_like(p)\n",
    "\n",
    "        self.cinn.to(self.c.device)\n",
    "\n",
    "        self.optimizer = torch.optim.Adam(self.trainable_parameters,\n",
    "                                          lr=self.c.lr,\n",
    "                                          weight_decay=self.c.weight_decay)\n",
    "        self.weight_scheduler = torch.optim.lr_scheduler.MultiStepLR(self.optimizer,\n",
    "                                                                #step_size=1,\n",
    "                                                                milestones=self.c.milestones,\n",
    "                                                                gamma=self.c.gamma)\n",
    "\n",
    "    def build_inn(self):\n",
    "\n",
    "        def fc_subnet(ch_in, ch_out):\n",
    "            net = OrderedDict([\n",
    "                (\"hx_input__\", MinMaxScaling((0., 31.), per_feature=True)),\n",
    "                (\"hx_lin_1\", hxnn.Linear(in_features=ch_in,\n",
    "                                      out_features=self.c.internal_width,\n",
    "                                      bias=False,\n",
    "                                      num_sends=2,\n",
    "                                      wait_between_events=2,\n",
    "                                      mock=self.c.mock)),\n",
    "                (\"relu1\", hxnn.ConvertingReLU(shift=1,\n",
    "                                              mock=True)),\n",
    "                (\"hx_lin_2\", hxnn.Linear(in_features=self.c.internal_width,\n",
    "                                      out_features=ch_out,\n",
    "                                      bias=False,\n",
    "                                      num_sends=3,\n",
    "                                      wait_between_events=2,\n",
    "                                      mock=self.c.mock)),\n",
    "                (\"hx_output\", LinearScaling(weight=0.03))\n",
    "            ])\n",
    "            return nn.Sequential(net)\n",
    "\n",
    "        cond = Ff.ConditionNode(4)\n",
    "\n",
    "        nodes = [Ff.InputNode(1, *self.c.img_size)]\n",
    "        nodes.append(Ff.Node(nodes[-1], Fm.Flatten, {}))\n",
    "\n",
    "        for k in range(self.c.n_blocks):\n",
    "            nodes.append(Ff.Node(nodes[-1], Fm.PermuteRandom,\n",
    "                                 {\"seed\": k}))\n",
    "            nodes.append(Ff.Node(nodes[-1], Fm.GLOWCouplingBlock,\n",
    "                                 {\"subnet_constructor\": fc_subnet,\n",
    "                                  \"clamp\": 1.},\n",
    "                                  conditions=cond))\n",
    "\n",
    "        nodes += [cond, Ff.OutputNode(nodes[-1])]\n",
    "        return Ff.ReversibleGraphNet(nodes, verbose=False)\n",
    "\n",
    "    def forward(self, x, l, jac=True):\n",
    "        #if self.stop:\n",
    "        #    raise\n",
    "        #self.stop = True\n",
    "        #print(x[0])\n",
    "        return self.cinn(x, c=one_hot(l), jac=jac)\n",
    "\n",
    "    def reverse_sample(self, z, l, jac=True):\n",
    "        return self.cinn(z, c=one_hot(l), rev=True, jac=jac)\n",
    "\n",
    "    def save(self, name):\n",
    "        save_dict = {\"opt\": self.optimizer.state_dict(),\n",
    "                     \"net\": self.cinn.state_dict(),\n",
    "                     \"lr\": self.weight_scheduler.state_dict()}\n",
    "        torch.save(save_dict, name)\n",
    "\n",
    "    def load(self, name):\n",
    "        state_dicts = torch.load(name)\n",
    "        self.cinn.load_state_dict(state_dicts[\"net\"])\n",
    "        try:\n",
    "            self.optimizer.load_state_dict(state_dicts[\"opt\"])\n",
    "        except ValueError:\n",
    "            print(\"Cannot load optimizer for some reason or other\")\n",
    "        try:\n",
    "            self.weight_scheduler.load_state_dict(state_dicts[\"lr\"])\n",
    "        except ValueError:\n",
    "            print(\"Cannot load optimizer for some reason or other\")\n",
    "            \n",
    "def one_hot(labels, out=None):\n",
    "    '''\n",
    "    Convert LongTensor labels (contains labels 0-9), to a one hot vector.\n",
    "    Can be done in-place using the out-argument (faster, re-use of GPU memory)\n",
    "    '''\n",
    "    if out is None:\n",
    "        out = torch.zeros(labels.shape[0], 4).to(labels.device)\n",
    "    else:\n",
    "        out.zeros_()\n",
    "    out.scatter_(dim=1, index=labels.view(-1,1), value=1.)\n",
    "    return out"
   ]
  },
  {
   "cell_type": "markdown",
   "metadata": {},
   "source": [
    "## train"
   ]
  },
  {
   "cell_type": "code",
   "execution_count": 109,
   "metadata": {
    "scrolled": false
   },
   "outputs": [
    {
     "name": "stdout",
     "output_type": "stream",
     "text": [
      "000 \t00000/00386 \t0.00 \t0.218334\t0.187939\t1.00e-03\n",
      "000 \t00050/00386 \t0.04 \t-0.007706\t0.139310\t1.00e-03\n",
      "000 \t00100/00386 \t0.08 \t-0.128639\t0.159253\t1.00e-03\n",
      "000 \t00150/00386 \t0.11 \t-0.134983\t0.155304\t1.00e-03\n",
      "000 \t00200/00386 \t0.15 \t-0.134717\t0.150491\t1.00e-03\n",
      "000 \t00250/00386 \t0.18 \t-0.136659\t0.157249\t1.00e-03\n",
      "000 \t00300/00386 \t0.22 \t-0.136412\t0.143636\t1.00e-03\n",
      "000 \t00350/00386 \t0.25 \t-0.136641\t0.147080\t1.00e-03\n",
      "001 \t00000/00386 \t0.28 \t-0.136500\t0.142776\t1.00e-03\n",
      "001 \t00050/00386 \t0.32 \t-0.136811\t0.146986\t1.00e-03\n",
      "001 \t00100/00386 \t0.35 \t-0.134098\t0.149878\t1.00e-03\n",
      "001 \t00150/00386 \t0.39 \t-0.133408\t0.152802\t1.00e-03\n",
      "001 \t00200/00386 \t0.42 \t-0.134288\t0.154403\t1.00e-03\n",
      "001 \t00250/00386 \t0.46 \t-0.133570\t0.149017\t1.00e-03\n",
      "001 \t00300/00386 \t0.49 \t-0.135748\t0.153450\t1.00e-03\n",
      "001 \t00350/00386 \t0.53 \t-0.136253\t0.148210\t1.00e-03\n",
      "002 \t00000/00386 \t0.56 \t-0.135531\t0.145227\t1.00e-03\n",
      "002 \t00050/00386 \t0.59 \t-0.138085\t0.147638\t1.00e-03\n",
      "002 \t00100/00386 \t0.63 \t-0.141195\t0.148216\t1.00e-03\n",
      "002 \t00150/00386 \t0.66 \t-0.143513\t0.144855\t1.00e-03\n",
      "002 \t00200/00386 \t0.70 \t-0.145799\t0.140250\t1.00e-03\n",
      "002 \t00250/00386 \t0.74 \t-0.151046\t0.125251\t1.00e-03\n",
      "002 \t00300/00386 \t0.77 \t-0.154275\t0.122016\t1.00e-03\n",
      "002 \t00350/00386 \t0.81 \t-0.158738\t0.113102\t1.00e-03\n",
      "003 \t00000/00386 \t0.84 \t-0.160595\t0.112635\t1.00e-03\n",
      "003 \t00050/00386 \t0.87 \t-0.168180\t0.105847\t1.00e-03\n",
      "003 \t00100/00386 \t0.91 \t-0.173303\t0.088621\t1.00e-03\n",
      "003 \t00150/00386 \t0.94 \t-0.180313\t0.081769\t1.00e-03\n",
      "003 \t00200/00386 \t0.98 \t-0.188840\t0.077464\t1.00e-03\n",
      "003 \t00250/00386 \t1.01 \t-0.196366\t0.066981\t1.00e-03\n",
      "003 \t00300/00386 \t1.05 \t-0.205822\t0.061801\t1.00e-03\n",
      "003 \t00350/00386 \t1.08 \t-0.212918\t0.043827\t1.00e-03\n",
      "004 \t00000/00386 \t1.11 \t-0.221801\t0.035965\t1.00e-03\n",
      "004 \t00050/00386 \t1.15 \t-0.229367\t0.016169\t1.00e-03\n",
      "004 \t00100/00386 \t1.19 \t-0.240036\t0.009261\t1.00e-03\n",
      "004 \t00150/00386 \t1.22 \t-0.250656\t-0.003289\t1.00e-03\n",
      "004 \t00200/00386 \t1.26 \t-0.261428\t-0.018991\t1.00e-03\n",
      "004 \t00250/00386 \t1.29 \t-0.271235\t-0.032688\t1.00e-03\n",
      "004 \t00300/00386 \t1.33 \t-0.282739\t-0.052602\t1.00e-03\n",
      "004 \t00350/00386 \t1.36 \t-0.294159\t-0.065737\t1.00e-03\n"
     ]
    }
   ],
   "source": [
    "config = CONFIG()\n",
    "config.n_epochs = 5\n",
    "data = ExampleData(config)\n",
    "\n",
    "model_floating = EXAMPLEcINN_hx(config)\n",
    "\n",
    "t_start = time()\n",
    "\n",
    "model_floating.train()\n",
    "nll_mean = []\n",
    "\n",
    "\n",
    "try:\n",
    "    for i_epoch in range(-config.pre_low_lr, config.n_epochs):\n",
    "        if i_epoch < 0:\n",
    "            for param_group in model.optimizer.param_groups:\n",
    "                param_group['lr'] = config.lr * 2e-2\n",
    "\n",
    "        for i_batch, (x, l) in enumerate(data.train_loader):\n",
    "\n",
    "            x, l = x.to(config.device), l.to(config.device)\n",
    "            z, log_j = model_floating(x, l)\n",
    "\n",
    "            nll = torch.mean((z - 0.5)**2) / 2 - torch.mean(log_j) / np.prod(config.img_size)\n",
    "            nll.backward()\n",
    "            torch.nn.utils.clip_grad_norm_(model_floating.trainable_parameters,\n",
    "                                           config.clip_grad_norm)\n",
    "\n",
    "            nll_mean.append(nll.item())\n",
    "\n",
    "            model_floating.optimizer.step()\n",
    "            model_floating.optimizer.zero_grad()\n",
    "\n",
    "            if not i_batch % 50:\n",
    "                with torch.no_grad():\n",
    "                    z, log_j = model_floating(data.val_x, data.val_l)\n",
    "                    nll_val = torch.mean(z**2) / 2 - torch.mean(log_j) / np.prod(config.img_size)\n",
    "\n",
    "                print('%.3i \\t%.5i/%.5i \\t%.2f \\t%.6f\\t%.6f\\t%.2e' % (i_epoch,\n",
    "                                                                i_batch, len(data.train_loader),\n",
    "                                                                (time() - t_start)/60.,\n",
    "                                                                np.mean(nll_mean),\n",
    "                                                                nll_val.item(),\n",
    "                                                                model_floating.optimizer.param_groups[0]['lr'],\n",
    "                                                                ), flush=True)\n",
    "                nll_mean = []\n",
    "\n",
    "        model_floating.weight_scheduler.step()\n",
    "\n",
    "        if (i_epoch % config.checkpoint_save_interval) == 0:\n",
    "            model_floating.save(config.filename + 'floating_checkpoint_%.4i' % (i_epoch * (1-config.checkpoint_save_overwrite)))\n",
    "\n",
    "    #model_fp32.save(config.filename)\n",
    "\n",
    "except BaseException as b:\n",
    "    if config.checkpoint_on_error:\n",
    "        model_floating.save(config.filename + \"floating_ABORT\")\n",
    "    raise b"
   ]
  },
  {
   "cell_type": "code",
   "execution_count": 105,
   "metadata": {},
   "outputs": [],
   "source": [
    "def show_samples(model, data, config, label):\n",
    "    '''produces and shows cINN samples for a given label (0-9)'''\n",
    "\n",
    "    N_samples = 100\n",
    "    l = torch.LongTensor(N_samples).to(config.device)\n",
    "    l[:] = label\n",
    "\n",
    "    z = 1.0 * torch.randn(N_samples, np.prod(config.img_size)).to(config.device)\n",
    "\n",
    "    with torch.no_grad():\n",
    "        samples = model.reverse_sample(z, l)[0].cpu().numpy()\n",
    "\n",
    "    full_image = np.zeros((config.img_size[0]*10, config.img_size[1]*10))\n",
    "\n",
    "    qwe = []\n",
    "    for k in range(N_samples):\n",
    "        i, j = k // 10, k % 10\n",
    "        full_image[config.img_size[0] * i : config.img_size[1] * (i + 1),\n",
    "                   config.img_size[0] * j : config.img_size[1] * (j + 1)] = samples[k, 0]\n",
    "        qwe.append(np.argmax(samples[k, 0]))\n",
    "    qwe = np.array(qwe)\n",
    "    print(f\"{len(qwe[qwe==0])/len(qwe)}\\t{len(qwe[qwe==1])/len(qwe)}\\t{len(qwe[qwe==2])/len(qwe)}\\t{len(qwe[qwe==3])/len(qwe)}\")\n",
    "        \n",
    "\n",
    "    full_image = np.clip(full_image, 0, 1)\n",
    "    plt.figure()\n",
    "    plt.title(F'Generated digits for c={label}')\n",
    "    plt.imshow(full_image, vmin=0, vmax=1, cmap='gray')\n",
    "    plt.savefig(config.save_dir + f\"/eval_{label}\")"
   ]
  },
  {
   "cell_type": "code",
   "execution_count": 106,
   "metadata": {},
   "outputs": [],
   "source": [
    "#model_floating.eval()\n",
    "#model_floating.fuse_model()\n",
    "#model_floating.qconfig = torch.quantization.default_qconfig\n",
    "\n",
    "#for m in model_floating.modules():\n",
    "#    if type(m) == nn.Sequential:\n",
    "#        m.qconfig = torch.quantization.default_qconfig\n",
    "#        print(m, model_floating.qconfig)\n",
    "\n",
    "#torch.quantization.prepare(model_floating, inplace=True)\n",
    "\n",
    "#print(\"Pre-Calibrated state dict with Observer\")\n",
    "#print(model_floating.state_dict())"
   ]
  },
  {
   "cell_type": "code",
   "execution_count": 107,
   "metadata": {},
   "outputs": [
    {
     "name": "stdout",
     "output_type": "stream",
     "text": [
      "Calibration run - floating model\n",
      "0.21\t0.27\t0.23\t0.29\n",
      "0.32\t0.28\t0.2\t0.2\n",
      "0.19\t0.32\t0.19\t0.3\n",
      "0.27\t0.3\t0.26\t0.17\n"
     ]
    },
    {
     "data": {
      "image/png": "[encoded data removed]",
      "text/plain": [
       "<Figure size 432x288 with 1 Axes>"
      ]
     },
     "metadata": {
      "needs_background": "light"
     },
     "output_type": "display_data"
    },
    {
     "data": {
      "image/png": "[encoded data removed]",
      "text/plain": [
       "<Figure size 432x288 with 1 Axes>"
      ]
     },
     "metadata": {
      "needs_background": "light"
     },
     "output_type": "display_data"
    },
    {
     "data": {
      "image/png": "[encoded data removed]",
      "text/plain": [
       "<Figure size 432x288 with 1 Axes>"
      ]
     },
     "metadata": {
      "needs_background": "light"
     },
     "output_type": "display_data"
    },
    {
     "data": {
      "image/png": "[encoded data removed]",
      "text/plain": [
       "<Figure size 432x288 with 1 Axes>"
      ]
     },
     "metadata": {
      "needs_background": "light"
     },
     "output_type": "display_data"
    }
   ],
   "source": [
    "print(\"Calibration run - floating model\")\n",
    "for k in range(4):\n",
    "    show_samples(model_floating, data, config, k)"
   ]
  },
  {
   "cell_type": "code",
   "execution_count": 15,
   "metadata": {
    "scrolled": true
   },
   "outputs": [],
   "source": [
    "#print(\"Calibrated state dict with Observer\")\n",
    "#print(model_floating.state_dict())"
   ]
  },
  {
   "cell_type": "code",
   "execution_count": 16,
   "metadata": {},
   "outputs": [],
   "source": [
    "#model_quant = torch.quantization.convert(model_floating, inplace=False)\n",
    "#print(\"Converted state dict\")\n",
    "#print(model_quant.state_dict())"
   ]
  },
  {
   "cell_type": "code",
   "execution_count": 11,
   "metadata": {},
   "outputs": [
    {
     "name": "stdout",
     "output_type": "stream",
     "text": [
      "Quantized model\n",
      "1.0\t0.0\t0.0\t0.0\n",
      "0.0\t1.0\t0.0\t0.0\n",
      "0.0\t0.0\t1.0\t0.0\n",
      "0.0\t0.0\t0.0\t1.0\n"
     ]
    },
    {
     "data": {
      "image/png": "[encoded data removed]",
      "text/plain": [
       "<Figure size 432x288 with 1 Axes>"
      ]
     },
     "metadata": {
      "needs_background": "light"
     },
     "output_type": "display_data"
    },
    {
     "data": {
      "image/png": "[encoded data removed]",
      "text/plain": [
       "<Figure size 432x288 with 1 Axes>"
      ]
     },
     "metadata": {
      "needs_background": "light"
     },
     "output_type": "display_data"
    },
    {
     "data": {
      "image/png": "[encoded data removed]",
      "text/plain": [
       "<Figure size 432x288 with 1 Axes>"
      ]
     },
     "metadata": {
      "needs_background": "light"
     },
     "output_type": "display_data"
    },
    {
     "data": {
      "image/png": "[encoded data removed]",
      "text/plain": [
       "<Figure size 432x288 with 1 Axes>"
      ]
     },
     "metadata": {
      "needs_background": "light"
     },
     "output_type": "display_data"
    }
   ],
   "source": [
    "print(\"Quantized model\")\n",
    "for k in range(4):\n",
    "    show_samples(model_quant, data, config, k)"
   ]
  },
  {
   "cell_type": "code",
   "execution_count": 12,
   "metadata": {},
   "outputs": [],
   "source": [
    "model_quant.save(\"quantized_model.pt\")"
   ]
  },
  {
   "cell_type": "code",
   "execution_count": 21,
   "metadata": {},
   "outputs": [
    {
     "name": "stderr",
     "output_type": "stream",
     "text": [
      "/opt/spack_views/visionary-dls/lib/python3.8/site-packages/torch/quantization/observer.py:121: UserWarning: Please use quant_min and quant_max to specify the range for observers.                     reduce_range will be deprecated in a future release of PyTorch.\n",
      "  warnings.warn(\n",
      "/opt/spack_views/visionary-dls/lib/python3.8/site-packages/torch/quantization/observer.py:243: UserWarning: must run observer before calling calculate_qparams.                                        Returning default scale and zero point \n",
      "  warnings.warn(\n"
     ]
    },
    {
     "name": "stdout",
     "output_type": "stream",
     "text": [
      "Loaded Quantized model\n",
      "1.0\t0.0\t0.0\t0.0\n",
      "0.0\t1.0\t0.0\t0.0\n",
      "0.0\t0.0\t1.0\t0.0\n",
      "0.0\t0.0\t0.0\t1.0\n"
     ]
    },
    {
     "data": {
      "image/png": "[encoded data removed]",
      "text/plain": [
       "<Figure size 432x288 with 1 Axes>"
      ]
     },
     "metadata": {
      "needs_background": "light"
     },
     "output_type": "display_data"
    },
    {
     "data": {
      "image/png": "[encoded data removed]",
      "text/plain": [
       "<Figure size 432x288 with 1 Axes>"
      ]
     },
     "metadata": {
      "needs_background": "light"
     },
     "output_type": "display_data"
    },
    {
     "data": {
      "image/png": "[encoded data removed]",
      "text/plain": [
       "<Figure size 432x288 with 1 Axes>"
      ]
     },
     "metadata": {
      "needs_background": "light"
     },
     "output_type": "display_data"
    },
    {
     "data": {
      "image/png": "[encoded data removed]",
      "text/plain": [
       "<Figure size 432x288 with 1 Axes>"
      ]
     },
     "metadata": {
      "needs_background": "light"
     },
     "output_type": "display_data"
    }
   ],
   "source": [
    "cpu_config = CONFIG\n",
    "cpu_config.device = \"cpu\"\n",
    "load_model = EXAMPLEcINN_minimal(cpu_config)\n",
    "load_model.quantize()\n",
    "load_model.load(\"quantized_model.pt\")\n",
    "\n",
    "print(\"Loaded Quantized model\")\n",
    "for k in range(4):\n",
    "    show_samples(load_model, data, config, k)"
   ]
  },
  {
   "cell_type": "code",
   "execution_count": 17,
   "metadata": {},
   "outputs": [
    {
     "name": "stdout",
     "output_type": "stream",
     "text": [
      "Loaded Quantized model\n",
      "1.0\t0.0\t0.0\t0.0\n",
      "0.0\t1.0\t0.0\t0.0\n",
      "0.0\t0.0\t1.0\t0.0\n",
      "0.0\t0.0\t0.0\t1.0\n"
     ]
    },
    {
     "data": {
      "image/png": "[encoded data removed]",
      "text/plain": [
       "<Figure size 432x288 with 1 Axes>"
      ]
     },
     "metadata": {
      "needs_background": "light"
     },
     "output_type": "display_data"
    },
    {
     "data": {
      "image/png": "[encoded data removed]",
      "text/plain": [
       "<Figure size 432x288 with 1 Axes>"
      ]
     },
     "metadata": {
      "needs_background": "light"
     },
     "output_type": "display_data"
    },
    {
     "data": {
      "image/png": "[encoded data removed]",
      "text/plain": [
       "<Figure size 432x288 with 1 Axes>"
      ]
     },
     "metadata": {
      "needs_background": "light"
     },
     "output_type": "display_data"
    },
    {
     "data": {
      "image/png": "[encoded data removed]",
      "text/plain": [
       "<Figure size 432x288 with 1 Axes>"
      ]
     },
     "metadata": {
      "needs_background": "light"
     },
     "output_type": "display_data"
    }
   ],
   "source": [
    "print(\"Loaded Quantized model\")\n",
    "for k in range(4):\n",
    "    show_samples(load_model, data, config, k)\n",
    "\n",
    "\n",
    "def calib_func(model, data=data, config=config):\n",
    "    for k in range(4):\n",
    "        show_samples(model, data, config, k)\n"
   ]
  },
  {
   "cell_type": "code",
   "execution_count": 26,
   "metadata": {},
   "outputs": [
    {
     "data": {
      "text/plain": [
       "-63"
      ]
     },
     "execution_count": 26,
     "metadata": {},
     "output_type": "execute_result"
    }
   ],
   "source": [
    "_hxtorch.constants.synaptic_weight_min"
   ]
  },
  {
   "cell_type": "code",
   "execution_count": null,
   "metadata": {},
   "outputs": [],
   "source": []
  }
 ],
 "metadata": {
  "kernelspec": {
   "display_name": "Python 3",
   "language": "python",
   "name": "python3"
  },
  "language_info": {
   "codemirror_mode": {
    "name": "ipython",
    "version": 3
   },
   "file_extension": ".py",
   "mimetype": "text/x-python",
   "name": "python",
   "nbconvert_exporter": "python",
   "pygments_lexer": "ipython3",
   "version": "3.8.2"
  }
 },
 "nbformat": 4,
 "nbformat_minor": 4
}
